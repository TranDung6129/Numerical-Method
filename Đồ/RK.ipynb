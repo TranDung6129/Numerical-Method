{
 "cells": [
  {
   "cell_type": "code",
   "execution_count": 31,
   "metadata": {},
   "outputs": [],
   "source": [
    "import numpy as np\n",
    "import math\n",
    "import matplotlib.pyplot as plt\n"
   ]
  },
  {
   "cell_type": "code",
   "execution_count": 32,
   "metadata": {},
   "outputs": [],
   "source": [
    "t_0 = 0\n",
    "dt = 0.1 # Bước lưới h\n",
    "N = 1000 # Số bước thời gian cần tính\n",
    "y_0 = np.array([5.2, 3.6]) # Điều kiện ban đầu \n",
    "\n",
    "def F(y, t): # Hàm f(y, x)\n",
    "    ans = np.copy(y)\n",
    "    ans[0] = y[0] * (1-y[0]/45) - 0.5*y[0]*y[1]/(1+y[0]**2)\n",
    "    ans[1] = y[0]*y[1] + 0.3*y[0]*y[1]/(1+y[0]**2)\n",
    "    #ans[1] = -0.4*y[1] + 0.35*y[0]**2*y[1]/(1+y[0]**2)\n",
    "    return ans\n"
   ]
  },
  {
   "cell_type": "code",
   "execution_count": 33,
   "metadata": {},
   "outputs": [],
   "source": [
    "k = 3  # number of top and last"
   ]
  },
  {
   "cell_type": "code",
   "execution_count": 34,
   "metadata": {},
   "outputs": [],
   "source": [
    "# RK 1\n",
    "Euler_Forward = np.array([[0, 0],\n",
    "                          [1, 1]])\n",
    "\n",
    "# RK2\n",
    "Midpoint = np.array([[0, 0, 0],\n",
    "                     [1/2, 1/2, 0],\n",
    "                     [1, 0, 1]])\n",
    "Euler_Improve = np.array([[0, 0, 0],\n",
    "                          [1, 1, 0],\n",
    "                          [1, 1/2, 1/2]])\n",
    "\n",
    "# RK3\n",
    "Simpson = np.array([[0, 0, 0, 0],\n",
    "                    [1/2, 1/2, 0, 0],\n",
    "                    [1, -1, 2, 0],\n",
    "                    [1, 1/6, 2/3, 1/6]])\n",
    "Heun = np.array([[0, 0, 0, 0],\n",
    "                 [1/3, 1/3, 0, 0],\n",
    "                 [2/3, 0, 2/3, 0],\n",
    "                 [1, 1/4, 0, 3/4]])\n",
    "\n",
    "#RK4\n",
    "Original = np.array([[0, 0, 0, 0, 0],\n",
    "                     [1/2, 1/2, 0, 0, 0],\n",
    "                     [1/2, 0, 1/2, 0, 0],\n",
    "                     [1, 0, 0, 1, 0],\n",
    "                     [1, 1/6, 1/3, 1/3, 1/6]])\n",
    "Rule_3_8 = np.array([[0, 0, 0, 0, 0],\n",
    "                     [1/3, 1/3, 0, 0, 0],\n",
    "                     [2/3, -1/3, 1, 0, 0],\n",
    "                     [1, 1, -1, 1, 0],\n",
    "                     [1, 1/8, 3/8, 3/8, 1/8]]) "
   ]
  },
  {
   "cell_type": "code",
   "execution_count": 35,
   "metadata": {},
   "outputs": [],
   "source": [
    "def RK(y, t, Butcher_Table):\n",
    "    vector_y = np.array([y])\n",
    "    vector_t = np.array([t])\n",
    "    n = 0\n",
    "    s = len(Butcher_Table) - 1\n",
    "    B = Butcher_Table[1:, 1:]\n",
    "    alpha = Butcher_Table[1:, 0]\n",
    "\n",
    "    while n < N:\n",
    "        K = np.ones((s, len(y)))\n",
    "        K[0] = dt * F(vector_y[-1], vector_t[-1])\n",
    "        for i in range(1, s):\n",
    "            K[i] = dt * F(vector_y[-1] + np.dot(B[i-1], K), vector_t[-1] + alpha[i-1]*dt)\n",
    "        vector_y = np.vstack((vector_y, vector_y[-1] + np.dot(B[-1], K)))\n",
    "        vector_t = np.append(vector_t, t+dt)\n",
    "        n += 1\n",
    "        t += dt\n",
    "\n",
    "    return vector_y, vector_t\n"
   ]
  },
  {
   "cell_type": "code",
   "execution_count": 36,
   "metadata": {},
   "outputs": [],
   "source": [
    "ans_y, ans_t = RK(y_0, t_0, Midpoint)"
   ]
  },
  {
   "cell_type": "code",
   "execution_count": 37,
   "metadata": {},
   "outputs": [
    {
     "name": "stdout",
     "output_type": "stream",
     "text": [
      "t =  0.1 :\t Y[ 1 ]^T =  [5.63560382 6.08524041]\n",
      "t =  0.2 :\t Y[ 2 ]^T =  [ 6.08015025 10.70092705]\n",
      "t =  0.3 :\t Y[ 3 ]^T =  [ 6.51374756 19.57346649]\n",
      "...\n",
      "t =  99.8 :\t Y[ 998 ]^T =  [ 1.38103371 73.94838843]\n",
      "t =  99.9 :\t Y[ 999 ]^T =  [-0.27424673 79.5096541 ]\n",
      "t =  100.0 :\t Y[ 1000 ]^T =  [-1.06852635 81.70968101]\n"
     ]
    },
    {
     "data": {
      "image/png": "[encoded data removed]",
      "text/plain": [
       "<Figure size 640x480 with 1 Axes>"
      ]
     },
     "metadata": {},
     "output_type": "display_data"
    }
   ],
   "source": [
    "for i in range(k):\n",
    "    print(\"t = \", round(ans_t[i+1], 3), \":\\t Y[\", i+1, \"]^T = \" , ans_y[i+1])\n",
    "\n",
    "print(\"...\")\n",
    "\n",
    "for i in range(k):\n",
    "    print(\"t = \", round(ans_t[-k+i], 3), \":\\t Y[\", N-k+i+1, \"]^T = \", ans_y[-k+i])\n",
    "\n",
    "# Vẽ đồ thị\n",
    "ans_y = np.transpose(ans_y)\n",
    "\n",
    "# Muốn vẽ gì thì sửa ở đây\n",
    "#plt.plot(ans_t, ans_y[0] - np.exp(-1*ans_t), label = 'Sai số') # Vẽ y_0 theo t\n",
    "plt.plot(ans_t, ans_y[0], label = 'siuuuuu') # Vẽ y_1 theo t\n",
    "plt.plot(ans_t, ans_y[1], label = 'y')\n",
    "plt.xlabel('X')\n",
    "plt.ylabel('Y')\n",
    "plt.legend()\n",
    "plt.title('😗~Siuuuuu ')\n",
    "plt.show()"
   ]
  },
  {
   "cell_type": "code",
   "execution_count": null,
   "metadata": {},
   "outputs": [],
   "source": []
  }
 ],
 "metadata": {
  "kernelspec": {
   "display_name": "Python 3",
   "language": "python",
   "name": "python3"
  },
  "language_info": {
   "codemirror_mode": {
    "name": "ipython",
    "version": 3
   },
   "file_extension": ".py",
   "mimetype": "text/x-python",
   "name": "python",
   "nbconvert_exporter": "python",
   "pygments_lexer": "ipython3",
   "version": "3.11.8"
  }
 },
 "nbformat": 4,
 "nbformat_minor": 2
}
